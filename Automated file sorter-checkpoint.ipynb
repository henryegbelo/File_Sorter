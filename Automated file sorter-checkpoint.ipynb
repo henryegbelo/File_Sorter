{
 "cells": [
  {
   "cell_type": "code",
   "execution_count": 6,
   "id": "5b0dd70d",
   "metadata": {},
   "outputs": [],
   "source": [
    "import os\n",
    "import shutil\n",
    "directory_path = \"C:\\\\Users\\\\Henry\\\\Downloads\"\n",
    "file_extensions = {\n",
    "    'Documents': ['.pdf', '.docx', '.xlsx', '.xls', '.pptx', '.csv', '.ppt', '.doc'],\n",
    "    'Images': ['.jpg', '.jpeg', '.png', '.gif'],\n",
    "    'Videos': ['.mp4', '.avi', '.mkv'],\n",
    "    'Audio': ['.mp3', '.wav', '.flac'],\n",
    "    'Archives': ['.zip', '.rar', '.7z'],\n",
    "    'Applications': ['.exe', '.apk', '.msi', '.xml', '.html']\n",
    "}\n",
    "for file_name in os.listdir(directory_path):\n",
    "    file_path = os.path.join(directory_path, file_name)\n",
    "    if os.path.isfile(file_path):\n",
    "        for folder_name, extensions in file_extensions.items():\n",
    "            if any(file_name.endswith(ext) for ext in extensions):\n",
    "                folder_path = os.path.join(directory_path, folder_name)\n",
    "                if not os.path.exists(folder_path):\n",
    "                    os.makedirs(folder_path)\n",
    "                shutil.move(file_path, folder_path)\n",
    "                break\n"
   ]
  }
 ],
 "metadata": {
  "kernelspec": {
   "display_name": "Python 3 (ipykernel)",
   "language": "python",
   "name": "python3"
  },
  "language_info": {
   "codemirror_mode": {
    "name": "ipython",
    "version": 3
   },
   "file_extension": ".py",
   "mimetype": "text/x-python",
   "name": "python",
   "nbconvert_exporter": "python",
   "pygments_lexer": "ipython3",
   "version": "3.9.7"
  }
 },
 "nbformat": 4,
 "nbformat_minor": 5
}
